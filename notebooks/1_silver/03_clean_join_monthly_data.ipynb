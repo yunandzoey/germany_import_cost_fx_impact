{
 "cells": [
  {
   "cell_type": "code",
   "execution_count": 0,
   "metadata": {
    "application/vnd.databricks.v1+cell": {
     "cellMetadata": {},
     "inputWidgets": {},
     "nuid": "676f2165-73f5-45b2-886a-dbd371d8706b",
     "showTitle": false,
     "tableResultSettingsMap": {},
     "title": ""
    }
   },
   "outputs": [],
   "source": [
    "# Silver: monthly FX averages (pivoted) + monthly imports + EUR conversion\n",
    "# Outputs (managed Delta):\n",
    "#   fx_impact.silver_fx_monthly_long\n",
    "#   fx_impact.silver_fx_monthly\n",
    "#   fx_impact.silver_imports_monthly\n",
    "#   fx_impact.silver_monthly_fact\n"
   ]
  },
  {
   "cell_type": "code",
   "execution_count": 0,
   "metadata": {
    "application/vnd.databricks.v1+cell": {
     "cellMetadata": {
      "byteLimit": 2048000,
      "rowLimit": 10000
     },
     "inputWidgets": {},
     "nuid": "49bb7213-162b-4131-b42c-c9ccefc44ede",
     "showTitle": false,
     "tableResultSettingsMap": {},
     "title": ""
    }
   },
   "outputs": [],
   "source": [
    "# Cell 1 — Ensure schema exists\n",
    "spark.sql(\"CREATE DATABASE IF NOT EXISTS fx_impact\")\n"
   ]
  },
  {
   "cell_type": "code",
   "execution_count": 0,
   "metadata": {
    "application/vnd.databricks.v1+cell": {
     "cellMetadata": {
      "byteLimit": 2048000,
      "rowLimit": 10000
     },
     "inputWidgets": {},
     "nuid": "d3a7645e-cd9d-486f-95b9-a3fe1bf437ab",
     "showTitle": false,
     "tableResultSettingsMap": {},
     "title": ""
    }
   },
   "outputs": [],
   "source": [
    "# Cell 2 — FX monthly (long) with quality fields\n",
    "spark.sql(\"\"\"\n",
    "CREATE OR REPLACE TABLE fx_impact.silver_fx_monthly_long AS\n",
    "WITH fx AS (\n",
    "  SELECT\n",
    "    to_date(date_trunc('month', date)) AS month,\n",
    "    currency,\n",
    "    AVG(fx_rate) AS fx_avg,\n",
    "    COUNT(fx_rate) AS obs_days,\n",
    "    -- number of days in month\n",
    "    datediff(last_day(to_date(date_trunc('month', date))),\n",
    "             to_date(date_trunc('month', date))) + 1 AS days_total\n",
    "  FROM fx_impact.bronze_ecb_fx_rates\n",
    "  GROUP BY 1,2\n",
    ")\n",
    "SELECT\n",
    "  month,\n",
    "  currency,\n",
    "  fx_avg,\n",
    "  obs_days,\n",
    "  days_total,\n",
    "  CASE WHEN days_total > 0 THEN 1.0 - (obs_days * 1.0 / days_total) ELSE NULL END AS null_share\n",
    "FROM fx\n",
    "\"\"\")\n"
   ]
  },
  {
   "cell_type": "code",
   "execution_count": 0,
   "metadata": {
    "application/vnd.databricks.v1+cell": {
     "cellMetadata": {
      "byteLimit": 2048000,
      "rowLimit": 10000
     },
     "inputWidgets": {},
     "nuid": "fab05957-e9e1-46ac-89a4-b6dacd740ea1",
     "showTitle": false,
     "tableResultSettingsMap": {},
     "title": ""
    }
   },
   "outputs": [],
   "source": [
    "# Cell 3 — FX monthly (pivoted) + USD quality columns\n",
    "spark.sql(\"\"\"\n",
    "CREATE OR REPLACE TABLE fx_impact.silver_fx_monthly AS\n",
    "WITH p AS (\n",
    "  SELECT\n",
    "    month,\n",
    "    MAX(CASE WHEN currency='USD' THEN fx_avg END) AS USD_per_EUR,\n",
    "    MAX(CASE WHEN currency='JPY' THEN fx_avg END) AS JPY_per_EUR,\n",
    "    MAX(CASE WHEN currency='CNY' THEN fx_avg END) AS CNY_per_EUR\n",
    "  FROM fx_impact.silver_fx_monthly_long\n",
    "  GROUP BY month\n",
    "),\n",
    "q AS (\n",
    "  SELECT\n",
    "    month,\n",
    "    MAX(CASE WHEN currency='USD' THEN obs_days   END) AS usd_obs_days,\n",
    "    MAX(CASE WHEN currency='USD' THEN days_total END) AS usd_days_total,\n",
    "    MAX(CASE WHEN currency='USD' THEN null_share END) AS usd_null_share\n",
    "  FROM fx_impact.silver_fx_monthly_long\n",
    "  GROUP BY month\n",
    ")\n",
    "SELECT\n",
    "  p.month,\n",
    "  USD_per_EUR, JPY_per_EUR, CNY_per_EUR,\n",
    "  usd_obs_days, usd_days_total, usd_null_share\n",
    "FROM p\n",
    "LEFT JOIN q USING(month)\n",
    "\"\"\")\n"
   ]
  },
  {
   "cell_type": "code",
   "execution_count": 0,
   "metadata": {
    "application/vnd.databricks.v1+cell": {
     "cellMetadata": {
      "byteLimit": 2048000,
      "rowLimit": 10000
     },
     "inputWidgets": {},
     "nuid": "946be89d-59aa-4160-9274-6bb9bddb9584",
     "showTitle": false,
     "tableResultSettingsMap": {},
     "title": ""
    }
   },
   "outputs": [],
   "source": [
    "# Cell 4 — Imports monthly (USD) by HS-2\n",
    "spark.sql(\"\"\"\n",
    "CREATE OR REPLACE TABLE fx_impact.silver_imports_monthly AS\n",
    "SELECT\n",
    "  to_date(date_trunc('month', period_date)) AS month,\n",
    "  cmdCode,\n",
    "  COALESCE(MAX(cmdDesc), cmdCode)          AS cmdDesc,\n",
    "  SUM(TradeValue)                           AS import_usd\n",
    "FROM fx_impact.bronze_comtrade_imports\n",
    "GROUP BY 1,2\n",
    "\"\"\")\n"
   ]
  },
  {
   "cell_type": "code",
   "execution_count": 0,
   "metadata": {
    "application/vnd.databricks.v1+cell": {
     "cellMetadata": {
      "byteLimit": 2048000,
      "rowLimit": 10000
     },
     "inputWidgets": {},
     "nuid": "9833b301-68e7-46f5-92ab-144cb025aaf2",
     "showTitle": false,
     "tableResultSettingsMap": {},
     "title": ""
    }
   },
   "outputs": [],
   "source": [
    "# Cell 5 — Join + EUR conversion (+ flags)\n",
    "spark.sql(\"\"\"\n",
    "CREATE OR REPLACE TABLE fx_impact.silver_monthly_fact AS\n",
    "SELECT\n",
    "  i.month,\n",
    "  i.cmdCode,\n",
    "  i.cmdDesc,\n",
    "  i.import_usd,\n",
    "  f.USD_per_EUR, f.JPY_per_EUR, f.CNY_per_EUR,\n",
    "  f.usd_obs_days, f.usd_days_total, f.usd_null_share,\n",
    "  -- USD value to EUR using USD_per_EUR (target per 1 EUR)\n",
    "  CASE WHEN f.USD_per_EUR IS NOT NULL THEN i.import_usd / f.USD_per_EUR END AS import_eur,\n",
    "  CASE WHEN f.USD_per_EUR IS NULL THEN 1 ELSE 0 END AS fx_missing_flag,\n",
    "  -- Period label for later slicing\n",
    "  CASE\n",
    "    WHEN i.month <  DATE('2020-01-01') THEN 'Pre-COVID'\n",
    "    WHEN i.month <= DATE('2021-12-31') THEN 'During COVID'\n",
    "    ELSE 'Post-COVID'\n",
    "  END AS covid_period\n",
    "FROM fx_impact.silver_imports_monthly i\n",
    "LEFT JOIN fx_impact.silver_fx_monthly f\n",
    "  ON i.month = f.month\n",
    "\"\"\")\n"
   ]
  },
  {
   "cell_type": "code",
   "execution_count": 0,
   "metadata": {
    "application/vnd.databricks.v1+cell": {
     "cellMetadata": {
      "byteLimit": 2048000,
      "rowLimit": 10000
     },
     "inputWidgets": {},
     "nuid": "be53c537-69ec-4363-a375-fa6b3e61c2b3",
     "showTitle": false,
     "tableResultSettingsMap": {},
     "title": ""
    }
   },
   "outputs": [],
   "source": [
    "# Cell 6 — DQ checks (Silver)\n",
    "from pyspark.sql import functions as F\n",
    "\n",
    "fact = spark.table(\"fx_impact.silver_monthly_fact\")\n",
    "\n",
    "# 1) No duplicates on (month, cmdCode)\n",
    "dups = fact.groupBy(\"month\",\"cmdCode\").count().filter(\"count > 1\")\n",
    "assert dups.count() == 0, \"Duplicate (month, cmdCode) in silver_monthly_fact.\"\n",
    "\n",
    "# 2) import_usd should be > 0\n",
    "assert fact.filter(F.col(\"import_usd\") <= 0).count() == 0, \"Non-positive import_usd found.\"\n",
    "\n",
    "# 3) FX availability\n",
    "miss = fact.filter(\"fx_missing_flag = 1\").count()\n",
    "total = fact.count()\n",
    "print(f\"FX-missing rows: {miss}/{total} ({(miss/total*100 if total else 0):.2f}%)\")\n"
   ]
  },
  {
   "cell_type": "code",
   "execution_count": 0,
   "metadata": {
    "application/vnd.databricks.v1+cell": {
     "cellMetadata": {
      "byteLimit": 2048000,
      "rowLimit": 10000
     },
     "inputWidgets": {},
     "nuid": "0faae365-4de0-4092-954a-e916a84ca62c",
     "showTitle": false,
     "tableResultSettingsMap": {},
     "title": ""
    }
   },
   "outputs": [],
   "source": [
    "# Cell 7 — Quick profile / preview\n",
    "spark.sql(\"\"\"\n",
    "SELECT\n",
    "  MIN(month) AS min_month,\n",
    "  MAX(month) AS max_month,\n",
    "  COUNT(*)   AS rows,\n",
    "  SUM(CASE WHEN fx_missing_flag=1 THEN 1 ELSE 0 END) AS rows_fx_missing\n",
    "FROM fx_impact.silver_monthly_fact\n",
    "\"\"\").show()\n",
    "\n",
    "spark.sql(\"\"\"\n",
    "SELECT month, cmdCode, import_usd, import_eur, covid_period\n",
    "FROM fx_impact.silver_monthly_fact\n",
    "ORDER BY month, cmdCode\n",
    "LIMIT 20\n",
    "\"\"\").show()\n"
   ]
  }
 ],
 "metadata": {
  "application/vnd.databricks.v1+notebook": {
   "computePreferences": null,
   "dashboards": [],
   "environmentMetadata": {
    "base_environment": "",
    "environment_version": "2"
   },
   "inputWidgetPreferences": null,
   "language": "python",
   "notebookMetadata": {
    "pythonIndentUnit": 4
   },
   "notebookName": "03_clean_join_monthly_data",
   "widgets": {}
  },
  "language_info": {
   "name": "python"
  }
 },
 "nbformat": 4,
 "nbformat_minor": 0
}

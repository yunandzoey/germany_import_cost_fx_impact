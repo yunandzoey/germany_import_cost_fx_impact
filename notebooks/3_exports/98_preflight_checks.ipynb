{
 "cells": [
  {
   "cell_type": "code",
   "execution_count": 0,
   "metadata": {
    "application/vnd.databricks.v1+cell": {
     "cellMetadata": {
      "byteLimit": 2048000,
      "rowLimit": 10000
     },
     "inputWidgets": {},
     "nuid": "e19ef9bf-7876-43e3-b1c0-dfb986a78a43",
     "showTitle": false,
     "tableResultSettingsMap": {
      "3": {
       "dataGridStateBlob": "{\"version\":1,\"tableState\":{\"columnPinning\":{\"left\":[\"#row_number#\"],\"right\":[]},\"columnSizing\":{\"#row_number#\":53},\"columnVisibility\":{}},\"settings\":{\"columns\":{}},\"syncTimestamp\":1755696133866}",
       "filterBlob": null,
       "queryPlanFiltersBlob": null,
       "tableResultIndex": 3
      }
     },
     "title": ""
    }
   },
   "outputs": [],
   "source": [
    "# Preflight checks before Power BI export\n",
    "from pyspark.sql import functions as F\n",
    "\n",
    "def show(q):\n",
    "    print(\"\\n\" + \"-\"*88 + \"\\n\" + q.strip() + \"\\n\")\n",
    "    display(spark.sql(q))\n",
    "\n",
    "# 1) Coverage & schema sanity (Bronze)\n",
    "show(\"DESCRIBE TABLE fx_impact.bronze_ecb_fx_rates\")\n",
    "show(\"\"\"\n",
    "SELECT MIN(date) AS min_d, MAX(date) AS max_d, COUNT(*) AS rows\n",
    "FROM fx_impact.bronze_ecb_fx_rates\n",
    "\"\"\")\n",
    "show(\"\"\"\n",
    "SELECT MIN(period_date) AS min_m, MAX(period_date) AS max_m, COUNT(*) AS rows\n",
    "FROM fx_impact.bronze_comtrade_imports\n",
    "\"\"\")\n",
    "\n",
    "# 2) Silver integrity\n",
    "show(\"\"\"\n",
    "SELECT month, cmdCode, COUNT(*) AS c\n",
    "FROM fx_impact.silver_monthly_fact\n",
    "GROUP BY month, cmdCode\n",
    "HAVING COUNT(*) > 1\n",
    "\"\"\")\n",
    "show(\"\"\"\n",
    "SELECT SUM(CASE WHEN fx_missing_flag=1 THEN 1 ELSE 0 END) AS missing_fx_rows,\n",
    "       COUNT(*) AS total_rows\n",
    "FROM fx_impact.silver_monthly_fact\n",
    "\"\"\")\n",
    "\n",
    "# 3) Gold reconciliation\n",
    "show(\"\"\"\n",
    "WITH m AS (\n",
    "  SELECT month, SUM(import_eur) AS sum_eur\n",
    "  FROM fx_impact.gold_monthly_metrics\n",
    "  GROUP BY month\n",
    ")\n",
    "SELECT t.month, t.total_import_eur, m.sum_eur,\n",
    "       (t.total_import_eur - m.sum_eur) AS diff\n",
    "FROM fx_impact.gold_monthly_totals t\n",
    "JOIN m USING (month)\n",
    "WHERE ABS(t.total_import_eur - m.sum_eur) > 1e-6\n",
    "ORDER BY month\n",
    "\"\"\")\n",
    "show(\"\"\"\n",
    "SELECT month, SUM(share_of_total_eur) AS sum_share\n",
    "FROM fx_impact.gold_monthly_metrics\n",
    "GROUP BY month\n",
    "HAVING ABS(SUM(share_of_total_eur) - 1.0) > 1e-6\n",
    "\"\"\")\n",
    "\n",
    "# 4) Last complete month vs latest data\n",
    "show(\"SELECT last_day(add_months(current_date(), -1)) AS last_complete_month\")\n",
    "show(\"SELECT MAX(month) AS latest_gold_month FROM fx_impact.gold_monthly_totals\")\n",
    "\n",
    "# 5) COVID tables sanity (optional)\n",
    "show(\"SELECT * FROM fx_impact.gold_period_summary\")\n",
    "show(\"SELECT COUNT(*) AS rows_by_cmd FROM fx_impact.gold_covid_period_kpis_by_cmd\")\n"
   ]
  },
  {
   "cell_type": "markdown",
   "metadata": {
    "application/vnd.databricks.v1+cell": {
     "cellMetadata": {},
     "inputWidgets": {},
     "nuid": "583f9665-1cdf-4019-ae7c-8db008e48dfa",
     "showTitle": false,
     "tableResultSettingsMap": {},
     "title": ""
    }
   },
   "source": [
    "## How to read results\n",
    "- Dupes table should be empty.\n",
    "- missing_fx_rows should be ~0.\n",
    "- Reconciliation and share checks should return no rows.\n",
    "- Use last_complete_month to decide if you should export complete months only in your export notebook."
   ]
  },
  {
   "cell_type": "markdown",
   "metadata": {
    "application/vnd.databricks.v1+cell": {
     "cellMetadata": {},
     "inputWidgets": {},
     "nuid": "db6804f2-5f53-43d8-84aa-79bd0c9e9311",
     "showTitle": false,
     "tableResultSettingsMap": {},
     "title": ""
    }
   },
   "source": [
    "All green. Here’s the read:\n",
    "\n",
    "* **ECB Bronze**: 2018-01-02 → 2025-08-19, 5,862 rows. Start on the 2nd is normal (holiday). Schema = `DATE` ✅\n",
    "* **Comtrade Bronze**: 2018-01-01 → 2025-05-01, **445 rows** = 89 months × 5 HS codes ✅\n",
    "* **Silver**: no duplicates; **missing\\_fx\\_rows = 0** ✅\n",
    "* **Gold**: totals reconcile; shares sum to 1; latest gold month = **2025-05-01** (Comtrade only up to May) ✅\n",
    "* **COVID summary**: During \\~-1.49% vs Pre; Post \\~+26.89% vs Pre. Looks sensible. ✅\n",
    "* **By-cmd rows**: 5 commodities as expected ✅\n",
    "\n",
    "## What this means\n",
    "\n",
    "You’re clean to move to Power BI. The only nuance is **freshness**: FX is current to Aug-19, but Comtrade stops at **May 2025**. So export through **May 2025** (a complete month) and avoid June/July/Aug in visuals.\n"
   ]
  }
 ],
 "metadata": {
  "application/vnd.databricks.v1+notebook": {
   "computePreferences": null,
   "dashboards": [],
   "environmentMetadata": {
    "base_environment": "",
    "environment_version": "2"
   },
   "inputWidgetPreferences": null,
   "language": "python",
   "notebookMetadata": {
    "pythonIndentUnit": 4
   },
   "notebookName": "98_preflight_checks",
   "widgets": {}
  },
  "language_info": {
   "name": "python"
  }
 },
 "nbformat": 4,
 "nbformat_minor": 0
}

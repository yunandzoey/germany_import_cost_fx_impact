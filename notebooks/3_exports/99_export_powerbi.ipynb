{
 "cells": [
  {
   "cell_type": "code",
   "execution_count": 0,
   "metadata": {
    "application/vnd.databricks.v1+cell": {
     "cellMetadata": {
      "byteLimit": 2048000,
      "rowLimit": 10000
     },
     "inputWidgets": {},
     "nuid": "69c4e5c6-361b-4636-8681-c8605a72aab3",
     "showTitle": false,
     "tableResultSettingsMap": {},
     "title": ""
    }
   },
   "outputs": [],
   "source": [
    "# Power BI export (CE-friendly): download CSVs from the grid via display(df)\n",
    "# Inputs: fx_impact.gold_* tables\n",
    "# Outputs: CSV downloads you’ll save locally (no FileStore / DBFS browsing needed)\n"
   ]
  },
  {
   "cell_type": "code",
   "execution_count": 0,
   "metadata": {
    "application/vnd.databricks.v1+cell": {
     "cellMetadata": {
      "byteLimit": 2048000,
      "rowLimit": 10000
     },
     "inputWidgets": {},
     "nuid": "23d8d7b5-882d-4cb7-acc9-125849f21b19",
     "showTitle": false,
     "tableResultSettingsMap": {},
     "title": ""
    }
   },
   "outputs": [],
   "source": [
    "# Cell 1 — Params (toggle complete months)\n",
    "from pyspark.sql import functions as F\n",
    "\n",
    "FILTER_TO_COMPLETE_MONTHS = True  # set False if you want current partial month included\n",
    "\n",
    "# compute last complete month end\n",
    "last_complete = spark.sql(\"SELECT last_day(add_months(current_date(), -1)) AS lcd\").collect()[0][\"lcd\"]\n",
    "print(\"Last complete month:\", last_complete)\n"
   ]
  },
  {
   "cell_type": "code",
   "execution_count": 0,
   "metadata": {
    "application/vnd.databricks.v1+cell": {
     "cellMetadata": {
      "byteLimit": 2048000,
      "rowLimit": 10000
     },
     "inputWidgets": {},
     "nuid": "7084a3be-c732-4b96-ad8c-116adcb45f12",
     "showTitle": false,
     "tableResultSettingsMap": {},
     "title": ""
    }
   },
   "outputs": [],
   "source": [
    "# Cell 2 — Sanity checks (gold tables exist)\n",
    "tables = [\n",
    "  \"fx_impact.gold_monthly_metrics\",\n",
    "  \"fx_impact.gold_monthly_totals\",\n",
    "  \"fx_impact.gold_period_summary\",\n",
    "  \"fx_impact.gold_covid_period_kpis_by_cmd\"\n",
    "]\n",
    "for t in tables:\n",
    "    spark.sql(f\"DESCRIBE TABLE {t}\").show(truncate=False)\n"
   ]
  },
  {
   "cell_type": "code",
   "execution_count": 0,
   "metadata": {
    "application/vnd.databricks.v1+cell": {
     "cellMetadata": {
      "byteLimit": 2048000,
      "rowLimit": 10000
     },
     "inputWidgets": {},
     "nuid": "b03c9e90-9c24-4cce-b7ca-fccb59cf9edb",
     "showTitle": false,
     "tableResultSettingsMap": {
      "0": {
       "dataGridStateBlob": "{\"version\":1,\"tableState\":{\"columnPinning\":{\"left\":[\"#row_number#\"],\"right\":[]},\"columnSizing\":{},\"columnVisibility\":{}},\"settings\":{\"columns\":{}},\"syncTimestamp\":1755760517052}",
       "filterBlob": null,
       "queryPlanFiltersBlob": null,
       "tableResultIndex": 0
      }
     },
     "title": ""
    }
   },
   "outputs": [],
   "source": [
    "# Cell 3 — Main fact export (metrics)\n",
    "where_clause = f\"WHERE month <= DATE('{last_complete}')\" if FILTER_TO_COMPLETE_MONTHS else \"\"\n",
    "q = f\"\"\"\n",
    "SELECT month, cmdCode, \n",
    "       cmdDesc,            -- short (for visuals)\n",
    "       cmdDesc_long,       -- long (for tooltips)\n",
    "       covid_period,\n",
    "       import_usd, import_eur,\n",
    "       USD_per_EUR, JPY_per_EUR, CNY_per_EUR,\n",
    "       share_of_total_eur, eur_mom_pct, eur_yoy_pct,\n",
    "       eur_vol_3m, eur_vol_6m, fx_mom_pct, fx_vol_3m, fx_vol_6m\n",
    "FROM fx_impact.gold_monthly_metrics\n",
    "{where_clause}\n",
    "ORDER BY month, cmdCode\n",
    "\"\"\"\n",
    "df_metrics = spark.sql(q)\n",
    "display(df_metrics)  # ⬅ Click Download → CSV (name it gold_monthly_metrics.csv)\n"
   ]
  },
  {
   "cell_type": "code",
   "execution_count": 0,
   "metadata": {
    "application/vnd.databricks.v1+cell": {
     "cellMetadata": {
      "byteLimit": 2048000,
      "rowLimit": 10000
     },
     "inputWidgets": {},
     "nuid": "cc66f810-c69f-4082-89b5-081985a5e309",
     "showTitle": false,
     "tableResultSettingsMap": {},
     "title": ""
    }
   },
   "outputs": [],
   "source": [
    "# Cell 4 — Totals export (for fast cards/lines)\n",
    "q = f\"\"\"\n",
    "SELECT month, total_import_usd, total_import_eur, avg_usd_per_eur\n",
    "FROM fx_impact.gold_monthly_totals\n",
    "{where_clause}\n",
    "ORDER BY month\n",
    "\"\"\"\n",
    "df_totals = spark.sql(q)\n",
    "display(df_totals)  # Download → gold_monthly_totals.csv\n"
   ]
  },
  {
   "cell_type": "code",
   "execution_count": 0,
   "metadata": {
    "application/vnd.databricks.v1+cell": {
     "cellMetadata": {
      "byteLimit": 2048000,
      "rowLimit": 10000
     },
     "inputWidgets": {},
     "nuid": "5d32a046-a7ad-4694-94e0-bab666ca3ff8",
     "showTitle": false,
     "tableResultSettingsMap": {},
     "title": ""
    }
   },
   "outputs": [],
   "source": [
    "# Cell 5 — COVID period summary (overall)\n",
    "df_period = spark.sql(\"SELECT * FROM fx_impact.gold_period_summary\")\n",
    "display(df_period)  # Download → gold_period_summary.csv\n"
   ]
  },
  {
   "cell_type": "code",
   "execution_count": 0,
   "metadata": {
    "application/vnd.databricks.v1+cell": {
     "cellMetadata": {
      "byteLimit": 2048000,
      "rowLimit": 10000
     },
     "inputWidgets": {},
     "nuid": "7fa54b50-ff53-4fce-91e9-25a8f3b1f3e2",
     "showTitle": false,
     "tableResultSettingsMap": {},
     "title": ""
    }
   },
   "outputs": [],
   "source": [
    "# Cell 6 — COVID KPIs by commodity\n",
    "df_bycmd = spark.sql(\"\"\"\n",
    "SELECT cmdCode, \n",
    "       cmdDesc,            -- short (for visuals)\n",
    "       cmdDesc_long,       -- long (for tooltips)\n",
    "       pre_eur, during_eur, post_eur,\n",
    "       abs_change_during_vs_pre, pct_change_during_vs_pre,\n",
    "       abs_change_post_vs_pre,   pct_change_post_vs_pre\n",
    "FROM fx_impact.gold_covid_period_kpis_by_cmd\n",
    "ORDER BY abs_change_post_vs_pre DESC NULLS LAST\n",
    "\"\"\")\n",
    "display(df_bycmd)  # Download → gold_covid_period_kpis_by_cmd.csv\n"
   ]
  }
 ],
 "metadata": {
  "application/vnd.databricks.v1+notebook": {
   "computePreferences": {
    "hardware": {
     "accelerator": null,
     "gpuPoolId": null,
     "memory": null
    }
   },
   "dashboards": [],
   "environmentMetadata": {
    "base_environment": "",
    "environment_version": "2"
   },
   "inputWidgetPreferences": null,
   "language": "python",
   "notebookMetadata": {
    "pythonIndentUnit": 4
   },
   "notebookName": "99_export_powerbi",
   "widgets": {}
  },
  "language_info": {
   "name": "python"
  }
 },
 "nbformat": 4,
 "nbformat_minor": 0
}

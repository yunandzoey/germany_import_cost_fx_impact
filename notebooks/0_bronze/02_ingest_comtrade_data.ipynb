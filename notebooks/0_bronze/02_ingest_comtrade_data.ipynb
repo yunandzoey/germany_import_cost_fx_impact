{
 "cells": [
  {
   "cell_type": "markdown",
   "metadata": {
    "application/vnd.databricks.v1+cell": {
     "cellMetadata": {},
     "inputWidgets": {},
     "nuid": "130cd0e1-9e12-4742-a9fb-1db136c9af18",
     "showTitle": false,
     "tableResultSettingsMap": {},
     "title": ""
    }
   },
   "source": [
    "# 02_ingest_comtrade_data\n",
    "Bronze layer: UN Comtrade monthly imports for Germany (HS 2-digit shortlist, 2018–2024)\n",
    "Writes managed Delta table: fx_impact.bronze_comtrade_imports\n"
   ]
  },
  {
   "cell_type": "code",
   "execution_count": 0,
   "metadata": {
    "application/vnd.databricks.v1+cell": {
     "cellMetadata": {
      "byteLimit": 2048000,
      "rowLimit": 10000
     },
     "inputWidgets": {},
     "nuid": "46fda004-468b-45fb-8676-f07be89b2bbb",
     "showTitle": false,
     "tableResultSettingsMap": {},
     "title": ""
    }
   },
   "outputs": [],
   "source": [
    "# Repo path + imports (+ reload)\n",
    "import sys, importlib, inspect\n",
    "\n",
    "repo_root = \"/Workspace/Users/chiuyunhan@gmail.com/germany_import_cost_fx_impact\"\n",
    "if repo_root not in sys.path:\n",
    "    sys.path.append(repo_root)\n",
    "\n",
    "import scripts.api_clients as api_clients\n",
    "import scripts.utils as utils\n",
    "importlib.reload(api_clients)\n",
    "importlib.reload(utils)\n",
    "\n",
    "print(\"api_clients:\", inspect.getsourcefile(api_clients))\n",
    "print(\"utils:\", inspect.getsourcefile(utils))\n"
   ]
  },
  {
   "cell_type": "code",
   "execution_count": 0,
   "metadata": {
    "application/vnd.databricks.v1+cell": {
     "cellMetadata": {
      "byteLimit": 2048000,
      "rowLimit": 10000
     },
     "inputWidgets": {},
     "nuid": "712828d1-0fb6-407b-86c9-825dd2499052",
     "showTitle": false,
     "tableResultSettingsMap": {},
     "title": ""
    }
   },
   "outputs": [],
   "source": [
    "# Widget-only secret setup (no getpass)\n",
    "import os\n",
    "\n",
    "# Clean any old widgets and create a fresh one\n",
    "dbutils.widgets.removeAll()\n",
    "dbutils.widgets.text(\"COMTRADE_API_KEY\", \"\")\n",
    "\n",
    "print(\"👉 Paste your key into the COMTRADE_API_KEY box at the top of the notebook, then press Enter.\")\n"
   ]
  },
  {
   "cell_type": "code",
   "execution_count": 0,
   "metadata": {
    "application/vnd.databricks.v1+cell": {
     "cellMetadata": {
      "byteLimit": 2048000,
      "rowLimit": 10000
     },
     "inputWidgets": {},
     "nuid": "ad2d00d2-5d96-4126-886c-a6b472ffcb7a",
     "showTitle": false,
     "tableResultSettingsMap": {},
     "title": ""
    }
   },
   "outputs": [],
   "source": [
    "# read widget → env var → sanity check\n",
    "import os\n",
    "\n",
    "API_KEY = dbutils.widgets.get(\"COMTRADE_API_KEY\")\n",
    "if not API_KEY:\n",
    "    raise RuntimeError(\"Set the COMTRADE_API_KEY widget (top of notebook) and press Enter.\")\n",
    "\n",
    "os.environ[\"COMTRADE_API_KEY\"] = API_KEY\n",
    "\n",
    "def mask(k, n=4): \n",
    "    return (k[:n] + \"…\" + k[-n:]) if k and len(k) > 8 else \"set\"\n",
    "print(\"Key set:\", mask(os.getenv(\"COMTRADE_API_KEY\")))\n"
   ]
  },
  {
   "cell_type": "code",
   "execution_count": 0,
   "metadata": {
    "application/vnd.databricks.v1+cell": {
     "cellMetadata": {
      "byteLimit": 2048000,
      "rowLimit": 10000
     },
     "inputWidgets": {},
     "nuid": "0bc4d767-b8ee-4715-8e8c-a8a891a23e94",
     "showTitle": false,
     "tableResultSettingsMap": {},
     "title": ""
    }
   },
   "outputs": [],
   "source": [
    "# One-row API ping to confirm before the full fetch\n",
    "import os, requests\n",
    "\n",
    "url = \"https://comtradeapi.un.org/data/v1/get/C/M/HS\"\n",
    "params = {\n",
    "    \"cmdCode\": \"27\",\n",
    "    \"reporterCode\": 276,   # Germany\n",
    "    \"partnerCode\": 0,      # World\n",
    "    \"flowCode\": \"M\",       # Import\n",
    "    \"period\": \"202001\",    # <-- YYYYMM (safe for monthly)\n",
    "    \"motCode\": 0,          # TOTAL mode of transport\n",
    "    \"partner2Code\": 0,     # World\n",
    "    \"customsCode\": \"C00\",  # TOTAL customs\n",
    "    \"includeDesc\": \"TRUE\"\n",
    "}\n",
    "headers = {\"Ocp-Apim-Subscription-Key\": os.getenv(\"COMTRADE_API_KEY\")}\n",
    "\n",
    "r = requests.get(url, params=params, headers=headers, timeout=60)\n",
    "print(\"URL:\", r.request.url)\n",
    "print(\"Status:\", r.status_code)\n",
    "print(\"Body (first 500):\", r.text[:500])\n",
    "r.raise_for_status()\n"
   ]
  },
  {
   "cell_type": "code",
   "execution_count": 0,
   "metadata": {
    "application/vnd.databricks.v1+cell": {
     "cellMetadata": {
      "byteLimit": 2048000,
      "rowLimit": 10000
     },
     "inputWidgets": {},
     "nuid": "42042914-bc19-4efc-9826-06713851473d",
     "showTitle": false,
     "tableResultSettingsMap": {},
     "title": ""
    }
   },
   "outputs": [],
   "source": [
    "# Full fetch → Pandas DF\n",
    "import time, pandas as pd\n",
    "from scripts.api_clients import fetch_comtrade_monthly_v1\n",
    "import os\n",
    "\n",
    "YEARS = list(range(2018, 2025)) + [2025]\n",
    "HS_2  = (\"27\",\"84\",\"85\",\"39\",\"72\")\n",
    "\n",
    "pdfs = []\n",
    "for y in YEARS:\n",
    "    print(f\"Fetching {y} …\")\n",
    "    df_y = fetch_comtrade_monthly_v1(\n",
    "        year=y,\n",
    "        hs_codes=HS_2,\n",
    "        reporter_code=276,    # Germany\n",
    "        partner_code=0,       # World\n",
    "        flow_code=\"M\",        # Import\n",
    "        api_key=os.getenv(\"COMTRADE_API_KEY\")\n",
    "    )\n",
    "    print(\"  rows:\", 0 if df_y is None else len(df_y))\n",
    "    if df_y is not None and not df_y.empty:\n",
    "        pdfs.append(df_y)\n",
    "    time.sleep(0.6)  # be polite / avoid 429\n",
    "\n",
    "pdf = pd.concat(pdfs, ignore_index=True)\n",
    "keep = [c for c in [\n",
    "    \"period\",\"period_date\",\"cmdCode\",\"cmdDesc\",\n",
    "    \"reporterCode\",\"reporterDesc\",\"partnerCode\",\"partnerDesc\",\n",
    "    \"flowCode\",\"flowDesc\",\"TradeValue\",\"netWgt\",\"year\"\n",
    "] if c in pdf.columns]\n",
    "pdf = pdf[keep]\n",
    "print(\"Final rows:\", len(pdf))\n"
   ]
  },
  {
   "cell_type": "code",
   "execution_count": 0,
   "metadata": {
    "application/vnd.databricks.v1+cell": {
     "cellMetadata": {
      "byteLimit": 2048000,
      "rowLimit": 10000
     },
     "inputWidgets": {},
     "nuid": "f2bacb6b-3e60-4525-92c5-6b368a80171d",
     "showTitle": false,
     "tableResultSettingsMap": {},
     "title": ""
    }
   },
   "outputs": [],
   "source": [
    "#  Write managed Delta (Bronze)\n",
    "from pyspark.sql import functions as F\n",
    "from scripts.utils import with_ingest_meta\n",
    "\n",
    "sdf = spark.createDataFrame(pdf)\\\n",
    "    .withColumn(\"period_date\", F.to_date(\"period_date\"))\\\n",
    "    .withColumn(\"cmdCode\", F.col(\"cmdCode\").cast(\"string\"))\\\n",
    "    .withColumn(\"TradeValue\", F.col(\"TradeValue\").cast(\"double\"))\\\n",
    "    .withColumn(\"netWgt\", F.col(\"netWgt\").cast(\"double\"))\\\n",
    "    .withColumn(\"year\", F.col(\"year\").cast(\"int\"))\n",
    "\n",
    "sdf = with_ingest_meta(sdf, src=\"COMTRADE_API_V1_HS2_WORLD_IMPORTS\")\n",
    "\n",
    "# Quick DQ\n",
    "assert sdf.groupBy(\"period_date\",\"cmdCode\").count().filter(\"count > 1\").count() == 0\n",
    "assert sdf.filter(F.col(\"TradeValue\") <= 0).count() == 0\n",
    "\n",
    "spark.sql(\"CREATE DATABASE IF NOT EXISTS fx_impact\")\n",
    "# Full refresh overwrite (safe if schema didn’t change)\n",
    "(sdf.write\n",
    "   .format(\"delta\")\n",
    "   .mode(\"overwrite\")\n",
    "   .option(\"overwriteSchema\", \"true\")      # harmless if schema same; required if you added cols\n",
    "   .partitionBy(\"year\",\"cmdCode\")\n",
    "   .saveAsTable(\"fx_impact.bronze_comtrade_imports\"))\n",
    "\n",
    "print(\"✅ Wrote: fx_impact.bronze_comtrade_imports\")\n"
   ]
  },
  {
   "cell_type": "code",
   "execution_count": 0,
   "metadata": {
    "application/vnd.databricks.v1+cell": {
     "cellMetadata": {
      "byteLimit": 2048000,
      "implicitDf": true,
      "rowLimit": 10000
     },
     "inputWidgets": {},
     "nuid": "08604d12-6dfe-40ac-a461-e9ae9be0e275",
     "showTitle": false,
     "tableResultSettingsMap": {},
     "title": ""
    }
   },
   "outputs": [],
   "source": [
    "%sql\n",
    "-- Should include 2025 now\n",
    "SELECT MIN(period_date), MAX(period_date)\n",
    "FROM fx_impact.bronze_comtrade_imports;\n",
    "\n",
    "SELECT year, COUNT(*) rows\n",
    "FROM fx_impact.bronze_comtrade_imports\n",
    "GROUP BY year\n",
    "ORDER BY year;"
   ]
  }
 ],
 "metadata": {
  "application/vnd.databricks.v1+notebook": {
   "computePreferences": {
    "hardware": {
     "accelerator": null,
     "gpuPoolId": null,
     "memory": null
    }
   },
   "dashboards": [],
   "environmentMetadata": {
    "base_environment": "",
    "environment_version": "2"
   },
   "inputWidgetPreferences": null,
   "language": "python",
   "notebookMetadata": {
    "mostRecentlyExecutedCommandWithImplicitDF": {
     "commandId": 6705511028710456,
     "dataframes": [
      "_sqldf"
     ]
    },
    "pythonIndentUnit": 4
   },
   "notebookName": "02_ingest_comtrade_data",
   "widgets": {
    "COMTRADE_API_KEY": {
     "currentValue": "f2c913198bb44cd1b6561b9946218dad",
     "nuid": "f0695416-a945-4f36-b5a2-9ae28f9c28c2",
     "typedWidgetInfo": {
      "autoCreated": false,
      "defaultValue": "",
      "label": null,
      "name": "COMTRADE_API_KEY",
      "options": {
       "widgetDisplayType": "Text",
       "validationRegex": null
      },
      "parameterDataType": "String"
     },
     "widgetInfo": {
      "widgetType": "text",
      "defaultValue": "",
      "label": null,
      "name": "COMTRADE_API_KEY",
      "options": {
       "widgetType": "text",
       "autoCreated": null,
       "validationRegex": null
      }
     }
    }
   }
  },
  "language_info": {
   "name": "python"
  }
 },
 "nbformat": 4,
 "nbformat_minor": 0
}

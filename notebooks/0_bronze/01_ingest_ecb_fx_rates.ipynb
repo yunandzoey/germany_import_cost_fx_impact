{
 "cells": [
  {
   "cell_type": "code",
   "execution_count": 0,
   "metadata": {
    "application/vnd.databricks.v1+cell": {
     "cellMetadata": {
      "byteLimit": 2048000,
      "rowLimit": 10000
     },
     "inputWidgets": {},
     "nuid": "81301e43-b1b2-4535-a64c-eeb58d80afca",
     "showTitle": false,
     "tableResultSettingsMap": {},
     "title": ""
    }
   },
   "outputs": [],
   "source": [
    "# %pip install pandas requests  # (if needed)\n",
    "from pyspark.sql import functions as F\n",
    "from datetime import date\n",
    "\n",
    "# Paths (use FileStore so you can inspect files if needed)\n",
    "PROJECT_BASE = \"dbfs:/FileStore/germany_import_cost_fx_impact\"\n",
    "BRONZE_BASE  = f\"{PROJECT_BASE}/bronze\"\n",
    "\n",
    "ECb_DELTA_PATH = f\"{BRONZE_BASE}/ecb_fx_rates\"\n",
    "\n",
    "# Imports from scripts\n",
    "import sys, os\n",
    "# If running in Databricks Repos, path usually added; else manually:\n",
    "# sys.path.append(\"/Workspace/Repos/<your_repo>/scripts\")\n",
    "from scripts.api_clients import fetch_ecb_fx_daily\n",
    "from scripts.utils import with_ingest_meta, write_delta\n"
   ]
  },
  {
   "cell_type": "code",
   "execution_count": 0,
   "metadata": {
    "application/vnd.databricks.v1+cell": {
     "cellMetadata": {
      "byteLimit": 2048000,
      "rowLimit": 10000
     },
     "inputWidgets": {},
     "nuid": "368b22cb-99b4-4f13-8264-d32b333d8364",
     "showTitle": false,
     "tableResultSettingsMap": {},
     "title": ""
    }
   },
   "outputs": [],
   "source": [
    "pdf = fetch_ecb_fx_daily(\n",
    "    symbols=(\"USD\",\"JPY\",\"CNY\"),\n",
    "    start=\"2018-01-01\",\n",
    "    end=\"2024-12-31\"\n",
    ")\n",
    "assert set(pdf['currency'].unique()) == {\"USD\",\"JPY\",\"CNY\"}\n",
    "assert pdf['fx_rate'].notna().any(), \"No FX values returned.\"\n",
    "\n",
    "sdf = spark.createDataFrame(pdf)\n",
    "sdf = with_ingest_meta(sdf, src=\"ECB_SDMX_EXR_D_SP00_A\")\n",
    "display(sdf.limit(10))\n"
   ]
  },
  {
   "cell_type": "code",
   "execution_count": 0,
   "metadata": {
    "application/vnd.databricks.v1+cell": {
     "cellMetadata": {
      "byteLimit": 2048000,
      "rowLimit": 10000
     },
     "inputWidgets": {},
     "nuid": "27e28e5b-792d-4797-b241-630aa76aa78c",
     "showTitle": false,
     "tableResultSettingsMap": {},
     "title": ""
    }
   },
   "outputs": [],
   "source": [
    "from pyspark.sql import functions as F\n",
    "\n",
    "# 1) Quick profiling (see what actually failed)\n",
    "dq_profile = (sdf.groupBy(\"currency\")\n",
    "    .agg(\n",
    "        F.count(\"*\").alias(\"rows\"),\n",
    "        F.sum(F.when(F.col(\"fx_rate\").isNull(), 1).otherwise(0)).alias(\"nulls\"),\n",
    "        F.min(\"fx_rate\").alias(\"min_fx\"),\n",
    "        F.max(\"fx_rate\").alias(\"max_fx\")\n",
    "    )\n",
    ")\n",
    "display(dq_profile)\n",
    "\n",
    "# 2) Currency-aware range checks (prices are units of target currency per 1 EUR)\n",
    "#    USD ≈ 0.8–1.3, CNY ≈ 6–9, JPY ≈ 100–200 in 2018–2024\n",
    "ranges = {\n",
    "    \"USD\": (0.5, 2.0),\n",
    "    \"CNY\": (5.0, 12.0),\n",
    "    \"JPY\": (80.0, 300.0),\n",
    "}\n",
    "\n",
    "violations = None\n",
    "for cur, (lo, hi) in ranges.items():\n",
    "    v = sdf.filter((F.col(\"currency\") == cur) & (F.col(\"fx_rate\").isNotNull()) &\n",
    "                   ((F.col(\"fx_rate\") < lo) | (F.col(\"fx_rate\") > hi)))\n",
    "    violations = v if violations is None else violations.unionByName(v)\n",
    "\n",
    "# 3) Assert on non-positive values only; range violations raise a clearer message\n",
    "assert sdf.filter((F.col(\"fx_rate\") <= 0) & F.col(\"fx_rate\").isNotNull()).count() == 0, \\\n",
    "    \"Found non-positive fx_rate values.\"\n",
    "\n",
    "if violations and violations.count() > 0:\n",
    "    raise AssertionError(\"FX rates outside expected currency-specific ranges. Inspect 'violations' DF.\")\n",
    "\n",
    "# 4) Nulls are acceptable at Bronze (holidays, missing obs). We'll handle them in Silver via monthly avg.\n",
    "null_rate_ok = (dq_profile.withColumn(\"null_rate\", F.col(\"nulls\")/F.col(\"rows\"))\n",
    "                .filter(\"null_rate > 0.1\").count() == 0)\n",
    "assert null_rate_ok, \"More than 10% nulls for at least one currency—check source/params.\"\n"
   ]
  },
  {
   "cell_type": "code",
   "execution_count": 0,
   "metadata": {
    "application/vnd.databricks.v1+cell": {
     "cellMetadata": {
      "byteLimit": 2048000,
      "rowLimit": 10000
     },
     "inputWidgets": {},
     "nuid": "1b7236cf-faf8-4cb6-b702-cec3b996bd2c",
     "showTitle": false,
     "tableResultSettingsMap": {},
     "title": ""
    }
   },
   "outputs": [],
   "source": [
    "# Cell 4 — write as a managed table (no FileStore)\n",
    "from pyspark.sql import functions as F\n",
    "\n",
    "# Create a schema (DB) in the default metastore\n",
    "spark.sql(\"CREATE DATABASE IF NOT EXISTS fx_impact\")\n",
    "\n",
    "# Write as a managed Delta table, partitioned by currency\n",
    "(\n",
    "  sdf.write\n",
    "     .format(\"delta\")\n",
    "     .mode(\"overwrite\")\n",
    "     .partitionBy(\"currency\")\n",
    "     .saveAsTable(\"fx_impact.bronze_ecb_fx_rates\")\n",
    ")\n",
    "\n",
    "print(\"✅ Wrote managed Delta table: fx_impact.bronze_ecb_fx_rates\")\n",
    "\n"
   ]
  },
  {
   "cell_type": "code",
   "execution_count": 0,
   "metadata": {
    "application/vnd.databricks.v1+cell": {
     "cellMetadata": {
      "byteLimit": 2048000,
      "rowLimit": 10000
     },
     "inputWidgets": {},
     "nuid": "c6127886-b3ed-4059-88fc-27fbf61432d4",
     "showTitle": false,
     "tableResultSettingsMap": {},
     "title": ""
    }
   },
   "outputs": [],
   "source": [
    "# Cell 5 — Read-back & smoke tests\n",
    "\n",
    "from pyspark.sql import functions as F\n",
    "\n",
    "bronze_fx = spark.table(\"fx_impact.bronze_ecb_fx_rates\")\n",
    "\n",
    "display(\n",
    "  bronze_fx.groupBy(\"currency\")\n",
    "           .agg(F.min(\"date\").alias(\"min_date\"),\n",
    "                F.max(\"date\").alias(\"max_date\"),\n",
    "                F.count(\"*\").alias(\"rows\"))\n",
    "           .orderBy(\"currency\")\n",
    ")\n",
    "\n",
    "display(bronze_fx.orderBy(F.desc(\"date\")).limit(10))\n"
   ]
  }
 ],
 "metadata": {
  "application/vnd.databricks.v1+notebook": {
   "computePreferences": null,
   "dashboards": [],
   "environmentMetadata": {
    "base_environment": "",
    "environment_version": "2"
   },
   "inputWidgetPreferences": null,
   "language": "python",
   "notebookMetadata": {
    "pythonIndentUnit": 4
   },
   "notebookName": "01_ingest_ecb_fx_rates",
   "widgets": {}
  },
  "language_info": {
   "name": "python"
  }
 },
 "nbformat": 4,
 "nbformat_minor": 0
}

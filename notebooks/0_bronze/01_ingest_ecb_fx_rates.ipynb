{
 "cells": [
  {
   "cell_type": "code",
   "execution_count": 0,
   "metadata": {
    "application/vnd.databricks.v1+cell": {
     "cellMetadata": {},
     "inputWidgets": {},
     "nuid": "51aa4b9f-3419-4eda-bc16-b50295f2fa95",
     "showTitle": false,
     "tableResultSettingsMap": {},
     "title": ""
    }
   },
   "outputs": [],
   "source": [
    "# 01_ingest_ecb_fx_rates\n",
    "# Bronze: ECB daily FX (USD, JPY, CNY) quoted as TARGET per 1 EUR (EXR/D.<CUR>.EUR.SP00.A)\n",
    "# Output: fx_impact.bronze_ecb_fx_rates  (managed Delta; partitioned by currency)\n"
   ]
  },
  {
   "cell_type": "code",
   "execution_count": 0,
   "metadata": {
    "application/vnd.databricks.v1+cell": {
     "cellMetadata": {
      "byteLimit": 2048000,
      "rowLimit": 10000
     },
     "inputWidgets": {},
     "nuid": "81301e43-b1b2-4535-a64c-eeb58d80afca",
     "showTitle": false,
     "tableResultSettingsMap": {},
     "title": ""
    }
   },
   "outputs": [],
   "source": [
    "# Cell 1 — Imports & repo wiring\n",
    "import sys, importlib, inspect\n",
    "from datetime import date\n",
    "\n",
    "# Adjust if your repo path differs\n",
    "repo_root = \"/Workspace/Users/chiuyunhan@gmail.com/germany_import_cost_fx_impact\"\n",
    "if repo_root not in sys.path:\n",
    "    sys.path.append(repo_root)\n",
    "\n",
    "import scripts.api_clients as api_clients\n",
    "import scripts.utils as utils\n",
    "importlib.reload(api_clients)\n",
    "importlib.reload(utils)\n",
    "\n",
    "print(\"api_clients:\", inspect.getsourcefile(api_clients))\n",
    "print(\"utils:\", inspect.getsourcefile(utils))\n"
   ]
  },
  {
   "cell_type": "code",
   "execution_count": 0,
   "metadata": {
    "application/vnd.databricks.v1+cell": {
     "cellMetadata": {
      "byteLimit": 2048000,
      "rowLimit": 10000
     },
     "inputWidgets": {},
     "nuid": "d5587bf2-a176-4b79-b86e-e10a3556e214",
     "showTitle": false,
     "tableResultSettingsMap": {},
     "title": ""
    }
   },
   "outputs": [],
   "source": [
    "# Cell 2 — Params\n",
    "# Timeline: cover 2018–2025+ (dynamic to 'today' so Silver never misses months)\n",
    "START_DATE = \"2018-01-01\"\n",
    "END_DATE   = date.today().isoformat()  # dynamic\n",
    "CURRENCIES = (\"USD\",\"JPY\",\"CNY\")\n"
   ]
  },
  {
   "cell_type": "code",
   "execution_count": 0,
   "metadata": {
    "application/vnd.databricks.v1+cell": {
     "cellMetadata": {
      "byteLimit": 2048000,
      "rowLimit": 10000
     },
     "inputWidgets": {},
     "nuid": "368b22cb-99b4-4f13-8264-d32b333d8364",
     "showTitle": false,
     "tableResultSettingsMap": {},
     "title": ""
    }
   },
   "outputs": [],
   "source": [
    "# Cell 3 — Fetch from ECB (with fallback parser)\n",
    "\n",
    "import pandas as pd\n",
    "from scripts.api_clients import fetch_ecb_fx_daily\n",
    "\n",
    "# Pull daily FX\n",
    "fx_pdf = fetch_ecb_fx_daily(\n",
    "    symbols=CURRENCIES,\n",
    "    start=START_DATE,     # ⬅️ use start, not start_date\n",
    "    end=END_DATE          # ⬅️ use end,   not end_date\n",
    ")\n",
    "\n",
    "# Minimal schema check\n",
    "required = {\"date\",\"currency\",\"fx_rate\"}\n",
    "missing = required - set(map(str.lower, fx_pdf.columns))\n",
    "if missing:\n",
    "    raise ValueError(f\"Unexpected ECB columns; missing: {missing}. Got: {fx_pdf.columns.tolist()}\")\n",
    "\n",
    "# Normalize columns just in case\n",
    "fx_pdf.columns = [c.lower() for c in fx_pdf.columns]\n",
    "fx_pdf = fx_pdf[[\"date\",\"currency\",\"fx_rate\"]]\n",
    "fx_pdf[\"date\"] = pd.to_datetime(fx_pdf[\"date\"])\n",
    "fx_pdf[\"fx_rate\"] = pd.to_numeric(fx_pdf[\"fx_rate\"], errors=\"coerce\")\n",
    "\n",
    "print(f\"Rows fetched: {len(fx_pdf):,}  |  Range: {fx_pdf['date'].min().date()} → {fx_pdf['date'].max().date()}\")\n",
    "fx_pdf.head(3)\n"
   ]
  },
  {
   "cell_type": "code",
   "execution_count": 0,
   "metadata": {
    "application/vnd.databricks.v1+cell": {
     "cellMetadata": {
      "byteLimit": 2048000,
      "rowLimit": 10000
     },
     "inputWidgets": {},
     "nuid": "27e28e5b-792d-4797-b241-630aa76aa78c",
     "showTitle": false,
     "tableResultSettingsMap": {},
     "title": ""
    }
   },
   "outputs": [],
   "source": [
    "# Cell 4 — To Spark + metadata\n",
    "from pyspark.sql import functions as F\n",
    "from scripts.utils import with_ingest_meta\n",
    "\n",
    "sdf = spark.createDataFrame(fx_pdf)\n",
    "sdf = (sdf\n",
    "       .withColumn(\"date\", F.to_date(\"date\"))\n",
    "       .withColumn(\"currency\", F.col(\"currency\").cast(\"string\"))\n",
    "       .withColumn(\"fx_rate\", F.col(\"fx_rate\").cast(\"double\")))\n",
    "sdf = with_ingest_meta(sdf, src=\"ECB_SDMX_EXR_D_SP00_A\")\n",
    "\n",
    "display(sdf.limit(10))"
   ]
  },
  {
   "cell_type": "code",
   "execution_count": 0,
   "metadata": {
    "application/vnd.databricks.v1+cell": {
     "cellMetadata": {
      "byteLimit": 2048000,
      "rowLimit": 10000
     },
     "inputWidgets": {},
     "nuid": "1b7236cf-faf8-4cb6-b702-cec3b996bd2c",
     "showTitle": false,
     "tableResultSettingsMap": {},
     "title": ""
    }
   },
   "outputs": [],
   "source": [
    "# Cell 5 — DQ checks (currency-aware)\n",
    "# 1) No duplicate (date, currency)\n",
    "dups = sdf.groupBy(\"date\",\"currency\").count().filter(\"count > 1\")\n",
    "assert dups.count() == 0, \"Duplicate (date, currency) rows detected.\"\n",
    "\n",
    "# 2) Non-positive values are invalid\n",
    "assert sdf.filter((F.col(\"fx_rate\") <= 0) & F.col(\"fx_rate\").isNotNull()).count() == 0, \"Found non-positive fx_rate.\"\n",
    "\n",
    "# 3) Currency-specific sanity ranges (broad, 2018–today)\n",
    "ranges = {\n",
    "    \"USD\": (0.5, 2.0),\n",
    "    \"CNY\": (5.0, 12.0),\n",
    "    \"JPY\": (80.0, 300.0),\n",
    "}\n",
    "violations = None\n",
    "for cur, (lo, hi) in ranges.items():\n",
    "    v = sdf.filter((F.col(\"currency\")==cur) & F.col(\"fx_rate\").isNotNull() &\n",
    "                   ((F.col(\"fx_rate\") < lo) | (F.col(\"fx_rate\") > hi)))\n",
    "    violations = v if violations is None else violations.unionByName(v)\n",
    "\n",
    "if violations and violations.count() > 0:\n",
    "    display(violations.orderBy(\"currency\",\"date\").limit(50))\n",
    "    raise AssertionError(\"FX rates outside expected ranges. See 'violations' preview above.\")\n",
    "\n",
    "# 4) Nulls are allowed in Bronze (holidays); track null share by currency\n",
    "profile = (sdf.groupBy(\"currency\")\n",
    "           .agg(F.count(\"*\").alias(\"rows\"),\n",
    "                F.sum(F.when(F.col(\"fx_rate\").isNull(), 1).otherwise(0)).alias(\"nulls\"),\n",
    "                F.min(\"date\").alias(\"min_date\"),\n",
    "                F.max(\"date\").alias(\"max_date\"),\n",
    "                F.min(\"fx_rate\").alias(\"min_fx\"),\n",
    "                F.max(\"fx_rate\").alias(\"max_fx\")))\n",
    "display(profile)\n",
    "\n"
   ]
  },
  {
   "cell_type": "code",
   "execution_count": 0,
   "metadata": {
    "application/vnd.databricks.v1+cell": {
     "cellMetadata": {
      "byteLimit": 2048000,
      "rowLimit": 10000
     },
     "inputWidgets": {},
     "nuid": "c6127886-b3ed-4059-88fc-27fbf61432d4",
     "showTitle": false,
     "tableResultSettingsMap": {},
     "title": ""
    }
   },
   "outputs": [],
   "source": [
    "# Cell 6 — Write managed Delta (no FileStore)\n",
    "\n",
    "spark.sql(\"CREATE DATABASE IF NOT EXISTS fx_impact\")\n",
    "\n",
    "# Small dataset → safe to overwrite fully\n",
    "# Easiest: overwrite + overwriteSchema\n",
    "(sdf.write\n",
    "   .format(\"delta\")\n",
    "   .mode(\"overwrite\")\n",
    "   .option(\"overwriteSchema\", \"true\")\n",
    "   .partitionBy(\"currency\")\n",
    "   .saveAsTable(\"fx_impact.bronze_ecb_fx_rates\"))\n",
    "\n",
    "print(\"✅ Wrote table: fx_impact.bronze_ecb_fx_rates\")"
   ]
  },
  {
   "cell_type": "code",
   "execution_count": 0,
   "metadata": {
    "application/vnd.databricks.v1+cell": {
     "cellMetadata": {
      "byteLimit": 2048000,
      "rowLimit": 10000
     },
     "inputWidgets": {},
     "nuid": "da73c118-c0c7-4937-92f8-17733a975f10",
     "showTitle": false,
     "tableResultSettingsMap": {},
     "title": ""
    }
   },
   "outputs": [],
   "source": [
    "spark.table(\"fx_impact.bronze_ecb_fx_rates\").printSchema()\n"
   ]
  },
  {
   "cell_type": "code",
   "execution_count": 0,
   "metadata": {
    "application/vnd.databricks.v1+cell": {
     "cellMetadata": {
      "byteLimit": 2048000,
      "rowLimit": 10000
     },
     "inputWidgets": {},
     "nuid": "b9fb7f97-f5b4-4506-a6e5-f9f642797cce",
     "showTitle": false,
     "tableResultSettingsMap": {},
     "title": ""
    }
   },
   "outputs": [],
   "source": [
    "# Cell 7 — Smoke tests / coverage\n",
    "fx = spark.table(\"fx_impact.bronze_ecb_fx_rates\")\n",
    "\n",
    "display(\n",
    "  fx.groupBy(\"currency\")\n",
    "    .agg(F.min(\"date\").alias(\"min_date\"),\n",
    "         F.max(\"date\").alias(\"max_date\"),\n",
    "         F.count(\"*\").alias(\"rows\"))\n",
    "    .orderBy(\"currency\")\n",
    ")\n",
    "\n",
    "# Months present (useful to check alignment with Comtrade)\n",
    "display(\n",
    "  fx.select(F.to_date(F.date_trunc(\"month\",\"date\")).alias(\"month\"))\n",
    "    .distinct().orderBy(\"month\").limit(12)\n",
    ")\n"
   ]
  }
 ],
 "metadata": {
  "application/vnd.databricks.v1+notebook": {
   "computePreferences": null,
   "dashboards": [],
   "environmentMetadata": {
    "base_environment": "",
    "environment_version": "2"
   },
   "inputWidgetPreferences": null,
   "language": "python",
   "notebookMetadata": {
    "pythonIndentUnit": 4
   },
   "notebookName": "01_ingest_ecb_fx_rates",
   "widgets": {}
  },
  "language_info": {
   "name": "python"
  }
 },
 "nbformat": 4,
 "nbformat_minor": 0
}

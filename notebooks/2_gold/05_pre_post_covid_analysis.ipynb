{
 "cells": [
  {
   "cell_type": "code",
   "execution_count": 0,
   "metadata": {
    "application/vnd.databricks.v1+cell": {
     "cellMetadata": {},
     "inputWidgets": {},
     "nuid": "77b748af-30ec-4e84-9505-e200958cab89",
     "showTitle": false,
     "tableResultSettingsMap": {},
     "title": ""
    }
   },
   "outputs": [],
   "source": [
    "# COVID impact analysis (Pre vs During vs Post)\n",
    "# Inputs:\n",
    "#   fx_impact.gold_monthly_metrics\n",
    "#   fx_impact.gold_monthly_totals\n",
    "# Outputs (managed Delta):\n",
    "#   fx_impact.gold_covid_period_kpis_total     -- overall EUR KPIs by period\n",
    "#   fx_impact.gold_covid_period_kpis_by_cmd    -- per-commodity EUR KPIs + deltas\n",
    "#   fx_impact.gold_covid_top_movers            -- ranked changes by commodity\n"
   ]
  },
  {
   "cell_type": "code",
   "execution_count": 0,
   "metadata": {
    "application/vnd.databricks.v1+cell": {
     "cellMetadata": {
      "byteLimit": 2048000,
      "rowLimit": 10000
     },
     "inputWidgets": {},
     "nuid": "db749ea7-8a80-49de-94f7-d6c9a88e7c9d",
     "showTitle": false,
     "tableResultSettingsMap": {},
     "title": ""
    }
   },
   "outputs": [],
   "source": [
    "# Cell 1 — Parameters & helpers\n",
    "from pyspark.sql import functions as F\n",
    "\n",
    "# Period cutoffs\n",
    "PRE_END    = \"2019-12-31\"   # Pre-COVID period: <= 2019-12-31\n",
    "DUR_END    = \"2021-12-31\"   # During-COVID:   2020-01-01 .. 2021-12-31\n",
    "# Post-COVID:                >= 2022-01-01\n",
    "\n",
    "INCLUDE_2025_YTD = True     # keep Post period as 2022..max(month), including 2025 YTD\n",
    "STRICT_POST_2018_2024 = False  # set True if you want Post fixed as 2022..2024 only\n"
   ]
  },
  {
   "cell_type": "code",
   "execution_count": 0,
   "metadata": {
    "application/vnd.databricks.v1+cell": {
     "cellMetadata": {
      "byteLimit": 2048000,
      "rowLimit": 10000
     },
     "inputWidgets": {},
     "nuid": "aa82fc5a-2b9b-4c74-a986-499e7a9e0b3f",
     "showTitle": false,
     "tableResultSettingsMap": {},
     "title": ""
    }
   },
   "outputs": [],
   "source": [
    "# Cell 2 — Month flags (period labels + YTD)\n",
    "# Use months present in gold_monthly_totals as the master calendar for Gold\n",
    "m = spark.table(\"fx_impact.gold_monthly_totals\").select(\"month\").distinct()\n",
    "\n",
    "perioded = (m\n",
    "  .withColumn(\"covid_period\",\n",
    "      F.when(F.col(\"month\") <= F.to_date(F.lit(PRE_END)), \"Pre-COVID\")\n",
    "       .when(F.col(\"month\") <= F.to_date(F.lit(DUR_END)), \"During COVID\")\n",
    "       .otherwise(\"Post-COVID\"))\n",
    "  .withColumn(\"year\", F.year(\"month\"))\n",
    "  .withColumn(\"is_2025\", (F.year(\"month\") == 2025).cast(\"int\"))\n",
    ")\n",
    "\n",
    "if STRICT_POST_2018_2024:\n",
    "    perioded = perioded.filter(~((F.col(\"covid_period\")==\"Post-COVID\") & (F.col(\"year\") >= 2025)))\n",
    "\n",
    "if not INCLUDE_2025_YTD:\n",
    "    perioded = perioded.filter(F.col(\"year\") <= 2024)\n",
    "\n",
    "perioded.createOrReplaceTempView(\"dim_months_perioded\")\n",
    "spark.sql(\"SELECT MIN(month) min_m, MAX(month) max_m, COUNT(*) n FROM dim_months_perioded\").show()\n",
    "spark.sql(\"SELECT covid_period, MIN(month) min_m, MAX(month) max_m, COUNT(*) n FROM dim_months_perioded GROUP BY covid_period ORDER BY min_m\").show()\n"
   ]
  },
  {
   "cell_type": "code",
   "execution_count": 0,
   "metadata": {
    "application/vnd.databricks.v1+cell": {
     "cellMetadata": {
      "byteLimit": 2048000,
      "rowLimit": 10000
     },
     "inputWidgets": {},
     "nuid": "5f523815-4cad-4873-8b58-aea477b8fe53",
     "showTitle": false,
     "tableResultSettingsMap": {},
     "title": ""
    }
   },
   "outputs": [],
   "source": [
    "# Cell 3 — Overall KPIs by period (totals)\n",
    "spark.sql(\"\"\"\n",
    "CREATE OR REPLACE TEMP VIEW kpi_total AS\n",
    "SELECT\n",
    "  d.covid_period,\n",
    "  COUNT(*)                           AS months,\n",
    "  AVG(t.total_import_eur)            AS avg_monthly_eur,\n",
    "  AVG(t.total_import_usd)            AS avg_monthly_usd,\n",
    "  AVG(t.avg_usd_per_eur)             AS avg_usd_per_eur\n",
    "FROM dim_months_perioded d\n",
    "JOIN fx_impact.gold_monthly_totals t USING (month)\n",
    "GROUP BY d.covid_period\n",
    "\"\"\")\n",
    "\n",
    "spark.sql(\"\"\"\n",
    "CREATE OR REPLACE TABLE fx_impact.gold_covid_period_kpis_total AS\n",
    "WITH p AS (\n",
    "  SELECT\n",
    "    MAX(CASE WHEN covid_period='Pre-COVID'    THEN avg_monthly_eur END) AS pre_eur,\n",
    "    MAX(CASE WHEN covid_period='During COVID' THEN avg_monthly_eur END) AS during_eur,\n",
    "    MAX(CASE WHEN covid_period='Post-COVID'   THEN avg_monthly_eur END) AS post_eur,\n",
    "    MAX(CASE WHEN covid_period='Pre-COVID'    THEN months END) AS pre_m,\n",
    "    MAX(CASE WHEN covid_period='During COVID' THEN months END) AS during_m,\n",
    "    MAX(CASE WHEN covid_period='Post-COVID'   THEN months END) AS post_m\n",
    "  FROM kpi_total\n",
    ")\n",
    "SELECT\n",
    "  pre_eur, during_eur, post_eur,\n",
    "  pre_m, during_m, post_m,\n",
    "  CASE WHEN pre_eur > 0 THEN (during_eur - pre_eur) / pre_eur END AS delta_during_vs_pre_pct,\n",
    "  CASE WHEN pre_eur > 0 THEN (post_eur   - pre_eur) / pre_eur END AS delta_post_vs_pre_pct\n",
    "FROM p\n",
    "\"\"\")\n",
    "\n",
    "spark.sql(\"SELECT * FROM fx_impact.gold_covid_period_kpis_total\").show()\n"
   ]
  },
  {
   "cell_type": "code",
   "execution_count": 0,
   "metadata": {
    "application/vnd.databricks.v1+cell": {
     "cellMetadata": {
      "byteLimit": 2048000,
      "rowLimit": 10000
     },
     "inputWidgets": {},
     "nuid": "bd67c647-85cb-4cde-997f-802c0e6abc7d",
     "showTitle": false,
     "tableResultSettingsMap": {},
     "title": ""
    }
   },
   "outputs": [],
   "source": [
    "# Cell 4 — Per-commodity KPIs & deltas\n",
    "spark.sql(\"\"\"\n",
    "CREATE OR REPLACE TEMP VIEW kpi_by_cmd AS\n",
    "SELECT\n",
    "  m.covid_period,\n",
    "  g.cmdCode,\n",
    "  COALESCE(MAX(g.cmdDesc), g.cmdCode) AS cmdDesc,\n",
    "  AVG(g.import_eur)                   AS avg_monthly_eur_cmd\n",
    "FROM dim_months_perioded m\n",
    "JOIN fx_impact.gold_monthly_metrics g USING (month)\n",
    "GROUP BY m.covid_period, g.cmdCode\n",
    "\"\"\")\n",
    "\n",
    "spark.sql(\"\"\"\n",
    "CREATE OR REPLACE TABLE fx_impact.gold_covid_period_kpis_by_cmd AS\n",
    "WITH p AS (\n",
    "  SELECT\n",
    "    cmdCode,\n",
    "    MAX(cmdDesc) AS cmdDesc,\n",
    "    MAX(CASE WHEN covid_period='Pre-COVID'    THEN avg_monthly_eur_cmd END) AS pre_eur,\n",
    "    MAX(CASE WHEN covid_period='During COVID' THEN avg_monthly_eur_cmd END) AS during_eur,\n",
    "    MAX(CASE WHEN covid_period='Post-COVID'   THEN avg_monthly_eur_cmd END) AS post_eur\n",
    "  FROM kpi_by_cmd\n",
    "  GROUP BY cmdCode\n",
    ")\n",
    "SELECT\n",
    "  cmdCode, cmdDesc,\n",
    "  pre_eur, during_eur, post_eur,\n",
    "  (during_eur - pre_eur)                 AS abs_change_during_vs_pre,\n",
    "  (post_eur   - pre_eur)                 AS abs_change_post_vs_pre,\n",
    "  CASE WHEN pre_eur > 0 THEN (during_eur - pre_eur)/pre_eur END AS pct_change_during_vs_pre,\n",
    "  CASE WHEN pre_eur > 0 THEN (post_eur   - pre_eur)/pre_eur END AS pct_change_post_vs_pre\n",
    "FROM p\n",
    "\"\"\")\n",
    "\n",
    "spark.sql(\"SELECT * FROM fx_impact.gold_covid_period_kpis_by_cmd ORDER BY abs_change_post_vs_pre DESC NULLS LAST LIMIT 10\").show(truncate=False)\n"
   ]
  },
  {
   "cell_type": "code",
   "execution_count": 0,
   "metadata": {
    "application/vnd.databricks.v1+cell": {
     "cellMetadata": {
      "byteLimit": 2048000,
      "rowLimit": 10000
     },
     "inputWidgets": {},
     "nuid": "6eaf2c4a-564c-4358-8de4-954e4cc52ae6",
     "showTitle": false,
     "tableResultSettingsMap": {},
     "title": ""
    }
   },
   "outputs": [],
   "source": [
    "# Cell 5 — Top movers (ranked tables for BI)\n",
    "spark.sql(\"\"\"\n",
    "CREATE OR REPLACE TABLE fx_impact.gold_covid_top_movers AS\n",
    "SELECT\n",
    "  cmdCode, cmdDesc,\n",
    "  abs_change_during_vs_pre, pct_change_during_vs_pre,\n",
    "  abs_change_post_vs_pre,   pct_change_post_vs_pre,\n",
    "  DENSE_RANK() OVER (ORDER BY abs_change_post_vs_pre DESC NULLS LAST)  AS rank_post_abs_up,\n",
    "  DENSE_RANK() OVER (ORDER BY abs_change_post_vs_pre ASC  NULLS LAST)  AS rank_post_abs_down,\n",
    "  DENSE_RANK() OVER (ORDER BY pct_change_post_vs_pre  DESC NULLS LAST) AS rank_post_pct_up,\n",
    "  DENSE_RANK() OVER (ORDER BY pct_change_post_vs_pre  ASC  NULLS LAST) AS rank_post_pct_down\n",
    "FROM fx_impact.gold_covid_period_kpis_by_cmd\n",
    "\"\"\")\n",
    "\n",
    "spark.sql(\"\"\"\n",
    "SELECT * FROM fx_impact.gold_covid_top_movers\n",
    "WHERE rank_post_abs_up <= 5 OR rank_post_abs_down <= 5\n",
    "ORDER BY rank_post_abs_up, rank_post_abs_down\n",
    "\"\"\").show(truncate=False)\n"
   ]
  },
  {
   "cell_type": "code",
   "execution_count": 0,
   "metadata": {
    "application/vnd.databricks.v1+cell": {
     "cellMetadata": {
      "byteLimit": 2048000,
      "rowLimit": 10000
     },
     "inputWidgets": {},
     "nuid": "77d4f5c4-b260-414f-80aa-5b148fb60633",
     "showTitle": false,
     "tableResultSettingsMap": {},
     "title": ""
    }
   },
   "outputs": [],
   "source": [
    "# Cell 6 — Quick QA\n",
    "# Period coverage sanity\n",
    "spark.sql(\"\"\"\n",
    "SELECT covid_period, COUNT(*) months\n",
    "FROM dim_months_perioded GROUP BY covid_period ORDER BY covid_period\n",
    "\"\"\").show()\n",
    "\n",
    "# Check that KPIs by cmd have pre values (guard divisions)\n",
    "spark.sql(\"\"\"\n",
    "SELECT COUNT(*) missing_pre\n",
    "FROM fx_impact.gold_covid_period_kpis_by_cmd\n",
    "WHERE pre_eur IS NULL\n",
    "\"\"\").show()\n"
   ]
  }
 ],
 "metadata": {
  "application/vnd.databricks.v1+notebook": {
   "computePreferences": null,
   "dashboards": [],
   "environmentMetadata": {
    "base_environment": "",
    "environment_version": "2"
   },
   "inputWidgetPreferences": null,
   "language": "python",
   "notebookMetadata": {
    "pythonIndentUnit": 4
   },
   "notebookName": "05_pre_post_covid_analysis",
   "widgets": {}
  },
  "language_info": {
   "name": "python"
  }
 },
 "nbformat": 4,
 "nbformat_minor": 0
}

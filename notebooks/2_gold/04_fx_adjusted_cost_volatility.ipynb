{
 "cells": [
  {
   "cell_type": "code",
   "execution_count": 0,
   "metadata": {
    "application/vnd.databricks.v1+cell": {
     "cellMetadata": {},
     "inputWidgets": {},
     "nuid": "bbdf8225-c30d-4c1c-910d-33aaf7d0bd84",
     "showTitle": false,
     "tableResultSettingsMap": {},
     "title": ""
    }
   },
   "outputs": [],
   "source": [
    "# Gold: FX-adjusted import costs, trends & volatility\n",
    "# Inputs:  fx_impact.silver_monthly_fact\n",
    "# Outputs:\n",
    "#   fx_impact.gold_monthly_metrics        (month × HS-2 with MoM/YoY, rolling vol, shares)\n",
    "#   fx_impact.gold_period_summary         (Pre/During/Post COVID deltas vs Pre)\n",
    "#   fx_impact.gold_monthly_totals         (monthly totals across HS-2)\n"
   ]
  },
  {
   "cell_type": "code",
   "execution_count": 0,
   "metadata": {
    "application/vnd.databricks.v1+cell": {
     "cellMetadata": {
      "byteLimit": 2048000,
      "rowLimit": 10000
     },
     "inputWidgets": {},
     "nuid": "20560adb-ed46-4bf2-adde-8ba2cdb9872e",
     "showTitle": false,
     "tableResultSettingsMap": {},
     "title": ""
    }
   },
   "outputs": [],
   "source": [
    "# Cell 1 — Ensure schema\n",
    "spark.sql(\"CREATE DATABASE IF NOT EXISTS fx_impact\")\n"
   ]
  },
  {
   "cell_type": "code",
   "execution_count": 0,
   "metadata": {
    "application/vnd.databricks.v1+cell": {
     "cellMetadata": {
      "byteLimit": 2048000,
      "rowLimit": 10000
     },
     "inputWidgets": {},
     "nuid": "e8ecfd16-ff84-405e-b412-f92f5b52db9c",
     "showTitle": false,
     "tableResultSettingsMap": {},
     "title": ""
    }
   },
   "outputs": [],
   "source": [
    "# Cell 2 — Month dimension (fills gaps cleanly)\n",
    "spark.sql(\"\"\"\n",
    "CREATE OR REPLACE TEMP VIEW bounds AS\n",
    "SELECT MIN(month) AS min_m, MAX(month) AS max_m\n",
    "FROM fx_impact.silver_monthly_fact\n",
    "\"\"\")\n",
    "\n",
    "spark.sql(\"\"\"\n",
    "CREATE OR REPLACE TABLE fx_impact.dim_months AS\n",
    "WITH b AS (SELECT * FROM bounds)\n",
    "SELECT explode(sequence(b.min_m, b.max_m, interval 1 month)) AS month\n",
    "FROM b\n",
    "\"\"\")\n"
   ]
  },
  {
   "cell_type": "code",
   "execution_count": 0,
   "metadata": {
    "application/vnd.databricks.v1+cell": {
     "cellMetadata": {
      "byteLimit": 2048000,
      "rowLimit": 10000
     },
     "inputWidgets": {},
     "nuid": "b955203e-a515-4e27-b880-c693b0e21eb6",
     "showTitle": false,
     "tableResultSettingsMap": {},
     "title": ""
    }
   },
   "outputs": [],
   "source": [
    "# Cell 3 — Base series (complete month × HS-2 grid, left-join Silver)\n",
    "spark.sql(\"\"\"\n",
    "CREATE OR REPLACE TEMP VIEW base_series AS\n",
    "WITH c AS (\n",
    "  SELECT DISTINCT cmdCode, COALESCE(cmdDesc, cmdCode) AS cmdDesc\n",
    "  FROM fx_impact.silver_monthly_fact\n",
    ")\n",
    "SELECT\n",
    "  d.month,\n",
    "  c.cmdCode,\n",
    "  c.cmdDesc\n",
    "FROM fx_impact.dim_months d\n",
    "CROSS JOIN c\n",
    "\"\"\")\n",
    "\n",
    "spark.sql(\"\"\"\n",
    "CREATE OR REPLACE TEMP VIEW joined AS\n",
    "SELECT\n",
    "  b.month,\n",
    "  b.cmdCode,\n",
    "  b.cmdDesc,\n",
    "  s.import_usd,\n",
    "  s.import_eur,\n",
    "  s.USD_per_EUR, s.JPY_per_EUR, s.CNY_per_EUR,\n",
    "  s.usd_obs_days, s.usd_days_total, s.usd_null_share,\n",
    "  s.covid_period\n",
    "FROM base_series b\n",
    "LEFT JOIN fx_impact.silver_monthly_fact s\n",
    "  ON b.month = s.month AND b.cmdCode = s.cmdCode\n",
    "\"\"\")\n"
   ]
  },
  {
   "cell_type": "markdown",
   "metadata": {
    "application/vnd.databricks.v1+cell": {
     "cellMetadata": {},
     "inputWidgets": {},
     "nuid": "4f705fec-f390-4a8f-aa1d-97871a33d4cb",
     "showTitle": false,
     "tableResultSettingsMap": {},
     "title": ""
    }
   },
   "source": [
    "We now have every month × commodity, even if a month was missing in Comtrade (those EUR/USD values will be NULL → treated as 0 for totals, but preserved for MoM logic)."
   ]
  },
  {
   "cell_type": "code",
   "execution_count": 0,
   "metadata": {
    "application/vnd.databricks.v1+cell": {
     "cellMetadata": {
      "byteLimit": 2048000,
      "rowLimit": 10000
     },
     "inputWidgets": {},
     "nuid": "5da075be-e4e2-4837-93a7-71800569442d",
     "showTitle": false,
     "tableResultSettingsMap": {},
     "title": ""
    }
   },
   "outputs": [],
   "source": [
    "# Cell 4 — Per-commodity metrics (MoM/YoY, rolling vol, shares)\n",
    "spark.sql(\"\"\"\n",
    "CREATE OR REPLACE TABLE fx_impact.gold_monthly_metrics AS\n",
    "WITH z AS (\n",
    "  SELECT\n",
    "    month, cmdCode, cmdDesc,\n",
    "    COALESCE(import_eur, 0.0) AS import_eur,\n",
    "    COALESCE(import_usd, 0.0) AS import_usd,\n",
    "    USD_per_EUR, JPY_per_EUR, CNY_per_EUR,\n",
    "    usd_obs_days, usd_days_total, usd_null_share,\n",
    "    covid_period,\n",
    "    -- Totals across commodities for shares\n",
    "    SUM(COALESCE(import_eur,0.0)) OVER (PARTITION BY month) AS total_eur_month\n",
    "  FROM joined\n",
    "),\n",
    "w AS (\n",
    "  SELECT\n",
    "    z.*,\n",
    "    LAG(import_eur, 1)  OVER (PARTITION BY cmdCode ORDER BY month) AS eur_lag_1,\n",
    "    LAG(import_eur, 12) OVER (PARTITION BY cmdCode ORDER BY month) AS eur_lag_12,\n",
    "    LAG(USD_per_EUR, 1) OVER (PARTITION BY cmdCode ORDER BY month) AS usd_per_eur_lag_1,\n",
    "\n",
    "    -- Rolling windows (ROWS, not RANGE → strict lookback)\n",
    "    STDDEV_POP(import_eur) OVER (\n",
    "      PARTITION BY cmdCode ORDER BY month\n",
    "      ROWS BETWEEN 2 PRECEDING AND CURRENT ROW\n",
    "    ) AS eur_vol_3m,\n",
    "\n",
    "    STDDEV_POP(import_eur) OVER (\n",
    "      PARTITION BY cmdCode ORDER BY month\n",
    "      ROWS BETWEEN 5 PRECEDING AND CURRENT ROW\n",
    "    ) AS eur_vol_6m,\n",
    "\n",
    "    STDDEV_POP(USD_per_EUR) OVER (\n",
    "      PARTITION BY cmdCode ORDER BY month\n",
    "      ROWS BETWEEN 2 PRECEDING AND CURRENT ROW\n",
    "    ) AS fx_vol_3m,\n",
    "\n",
    "    STDDEV_POP(USD_per_EUR) OVER (\n",
    "      PARTITION BY cmdCode ORDER BY month\n",
    "      ROWS BETWEEN 5 PRECEDING AND CURRENT ROW\n",
    "    ) AS fx_vol_6m\n",
    "  FROM z\n",
    ")\n",
    "SELECT\n",
    "  month, cmdCode, cmdDesc, covid_period,\n",
    "  import_usd, import_eur,\n",
    "  USD_per_EUR, JPY_per_EUR, CNY_per_EUR,\n",
    "  usd_obs_days, usd_days_total, usd_null_share,\n",
    "  total_eur_month,\n",
    "  CASE WHEN total_eur_month > 0 THEN import_eur / total_eur_month END AS share_of_total_eur,\n",
    "\n",
    "  -- MoM & YoY for EUR imports\n",
    "  CASE WHEN eur_lag_1  > 0 THEN (import_eur - eur_lag_1)  / eur_lag_1  END AS eur_mom_pct,\n",
    "  CASE WHEN eur_lag_12 > 0 THEN (import_eur - eur_lag_12) / eur_lag_12 END AS eur_yoy_pct,\n",
    "\n",
    "  -- FX MoM (% change in USD_per_EUR)\n",
    "  CASE WHEN usd_per_eur_lag_1 > 0 THEN (USD_per_EUR - usd_per_eur_lag_1) / usd_per_eur_lag_1 END AS fx_mom_pct,\n",
    "\n",
    "  -- Rolling volatility (level-based; optional: swap to log-return vol later)\n",
    "  eur_vol_3m, eur_vol_6m, fx_vol_3m, fx_vol_6m\n",
    "FROM w\n",
    "\"\"\")\n"
   ]
  },
  {
   "cell_type": "code",
   "execution_count": 0,
   "metadata": {
    "application/vnd.databricks.v1+cell": {
     "cellMetadata": {
      "byteLimit": 2048000,
      "rowLimit": 10000
     },
     "inputWidgets": {},
     "nuid": "a05fd201-ffd2-4cfa-aac2-7304d46cdf34",
     "showTitle": false,
     "tableResultSettingsMap": {},
     "title": ""
    }
   },
   "outputs": [],
   "source": [
    "# Cell 5 — Monthly totals table (nice for quick cards/lines)\n",
    "spark.sql(\"\"\"\n",
    "CREATE OR REPLACE TABLE fx_impact.gold_monthly_totals AS\n",
    "SELECT\n",
    "  month,\n",
    "  SUM(import_usd) AS total_import_usd,\n",
    "  SUM(import_eur) AS total_import_eur,\n",
    "  AVG(USD_per_EUR) AS avg_usd_per_eur\n",
    "FROM fx_impact.gold_monthly_metrics\n",
    "GROUP BY month\n",
    "\"\"\")\n"
   ]
  },
  {
   "cell_type": "code",
   "execution_count": 0,
   "metadata": {
    "application/vnd.databricks.v1+cell": {
     "cellMetadata": {
      "byteLimit": 2048000,
      "rowLimit": 10000
     },
     "inputWidgets": {},
     "nuid": "2a61b8c8-1571-4c58-86b0-b6b3fdd17f84",
     "showTitle": false,
     "tableResultSettingsMap": {},
     "title": ""
    }
   },
   "outputs": [],
   "source": [
    "# Cell 6 — Period summary (Pre/During/Post vs Pre deltas)\n",
    "spark.sql(\"\"\"\n",
    "CREATE OR REPLACE TABLE fx_impact.gold_period_summary AS\n",
    "WITH base AS (\n",
    "  SELECT covid_period,\n",
    "         AVG(import_eur) AS avg_monthly_eur\n",
    "  FROM fx_impact.gold_monthly_metrics\n",
    "  GROUP BY covid_period\n",
    "),\n",
    "p AS (\n",
    "  SELECT\n",
    "    MAX(CASE WHEN covid_period='Pre-COVID'    THEN avg_monthly_eur END) AS pre,\n",
    "    MAX(CASE WHEN covid_period='During COVID' THEN avg_monthly_eur END) AS during,\n",
    "    MAX(CASE WHEN covid_period='Post-COVID'   THEN avg_monthly_eur END) AS post\n",
    "  FROM base\n",
    ")\n",
    "SELECT\n",
    "  pre  AS avg_eur_pre,\n",
    "  during AS avg_eur_during,\n",
    "  post AS avg_eur_post,\n",
    "  CASE WHEN pre > 0 THEN (during - pre) / pre END AS delta_during_vs_pre_pct,\n",
    "  CASE WHEN pre > 0 THEN (post   - pre) / pre END AS delta_post_vs_pre_pct\n",
    "FROM p\n",
    "\"\"\")\n"
   ]
  },
  {
   "cell_type": "code",
   "execution_count": 0,
   "metadata": {
    "application/vnd.databricks.v1+cell": {
     "cellMetadata": {
      "byteLimit": 2048000,
      "rowLimit": 10000
     },
     "inputWidgets": {},
     "nuid": "4c47b31e-ea29-4d3a-bd0c-e16f948eb370",
     "showTitle": false,
     "tableResultSettingsMap": {},
     "title": ""
    }
   },
   "outputs": [],
   "source": [
    "# Cell 7 — Sanity preview\n",
    "spark.sql(\"SELECT * FROM fx_impact.gold_monthly_metrics ORDER BY month, cmdCode LIMIT 20\").show()\n",
    "spark.sql(\"SELECT * FROM fx_impact.gold_monthly_totals ORDER BY month LIMIT 12\").show()\n",
    "spark.sql(\"SELECT * FROM fx_impact.gold_period_summary\").show()\n"
   ]
  },
  {
   "cell_type": "markdown",
   "metadata": {
    "application/vnd.databricks.v1+cell": {
     "cellMetadata": {},
     "inputWidgets": {},
     "nuid": "8449e35d-00f2-42f6-8547-4d380b6d5b2b",
     "showTitle": false,
     "tableResultSettingsMap": {},
     "title": ""
    }
   },
   "source": [
    "Notes / rationale\n",
    "\n",
    "Filling the grid ensures consistent windows (3M/6M) even if a commodity had a missing month; we treat missing imports as 0 for totals and volatility. If you prefer to keep gaps, remove the COALESCE and adjust logic (MoM/YoY will be NULL where history is missing).\n",
    "\n",
    "Volatility here is std-dev of the levels. For finance-style volatility of returns, replace with STDDEV_POP(ln(import_eur / LAG(import_eur))) over the same rolling window (guard zeros).\n",
    "\n",
    "Shares use month total from the same table (window aggregate), so Power BI can render a contribution bar for each month."
   ]
  },
  {
   "cell_type": "markdown",
   "metadata": {
    "application/vnd.databricks.v1+cell": {
     "cellMetadata": {},
     "inputWidgets": {},
     "nuid": "117dceeb-d95e-4a9b-91e5-7dfd41f0b9aa",
     "showTitle": false,
     "tableResultSettingsMap": {},
     "title": ""
    }
   },
   "source": [
    "DAX suggestions (when you wire to Gold)\n",
    "\n",
    "Cards: Total EUR, MoM %, Δ Post vs Pre (from gold_period_summary), Avg USD_per_EUR.\n",
    "\n",
    "Line: total_import_eur over Date[Date] (from gold_monthly_totals).\n",
    "\n",
    "Stacked area: import_eur by cmdDesc over time (from gold_monthly_metrics).\n",
    "\n",
    "Bar + line: Contribution (share_of_total_eur) with avg_usd_per_eur."
   ]
  }
 ],
 "metadata": {
  "application/vnd.databricks.v1+notebook": {
   "computePreferences": null,
   "dashboards": [],
   "environmentMetadata": {
    "base_environment": "",
    "environment_version": "2"
   },
   "inputWidgetPreferences": null,
   "language": "python",
   "notebookMetadata": {
    "pythonIndentUnit": 4
   },
   "notebookName": "04_fx_adjusted_cost_volatility",
   "widgets": {}
  },
  "language_info": {
   "name": "python"
  }
 },
 "nbformat": 4,
 "nbformat_minor": 0
}
